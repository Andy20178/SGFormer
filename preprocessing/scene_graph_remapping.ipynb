{
 "cells": [
  {
   "cell_type": "code",
   "execution_count": 1,
   "metadata": {},
   "outputs": [],
   "source": [
    "import json\n",
    "from collections import defaultdict"
   ]
  },
  {
   "cell_type": "markdown",
   "metadata": {},
   "source": [
    "### loading and merging\n",
    "* instruction: put official 'objects.json' and 'relationships.json' (from 3DSSG dataset) into the same folder with this jupyter notebook"
   ]
  },
  {
   "cell_type": "code",
   "execution_count": 2,
   "metadata": {},
   "outputs": [],
   "source": [
    "with open('objects.json') as f:\n",
    "    OBJ = json.load(f)\n",
    "with open('relationships.json') as f:\n",
    "    REL = json.load(f)"
   ]
  },
  {
   "cell_type": "code",
   "execution_count": 3,
   "metadata": {},
   "outputs": [],
   "source": [
    "# read objects (as O) and relationships(as R)\n",
    "O = {}\n",
    "for scene in OBJ['scans']:\n",
    "    O[scene['scan']] = {}\n",
    "    for _object_ in scene['objects']:\n",
    "        O[scene['scan']][_object_['id']] = _object_\n",
    "        \n",
    "R = {}\n",
    "for scene in REL['scans']:\n",
    "    R[scene['scan']] = scene['relationships']\n",
    "    \n",
    "# overlap O and R -> SceneGraphs\n",
    "SceneGraphs = {}\n",
    "for scene_id in R.keys():\n",
    "    scene_rels = R[scene_id]\n",
    "    scene_objs = O[scene_id]\n",
    "    \n",
    "    SceneGraphs[scene_id] = {'nodes': scene_objs, 'edges': scene_rels}\n",
    "del OBJ, REL"
   ]
  },
  {
   "cell_type": "markdown",
   "metadata": {},
   "source": [
    "### [B1] Node (object) Remapping\n",
    "* reference: https://docs.google.com/spreadsheets/d/1eRTJ2M9OHz7ypXfYD-KTR1AIT-CrVLmhJf8mxgVZWnI/edit#gid=0"
   ]
  },
  {
   "cell_type": "code",
   "execution_count": 4,
   "metadata": {},
   "outputs": [],
   "source": [
    "RIO27_CLASSES = ['-', 'wall', 'floor', 'cabinet', 'bed', 'chair', 'sofa', 'table', 'door', 'window', 'counter', 'shelf', 'curtain', 'pillow', 'clothes', 'ceiling', 'fridge', 'tv', 'towel', 'plant', 'box', 'nightstand', 'toilet', 'sink', 'lamp', 'bathtub', 'object', 'blanket']\n",
    "for scene_id in SceneGraphs.keys():\n",
    "    scene_objs = SceneGraphs[scene_id]['nodes']\n",
    "    \n",
    "    # remove unnecessary annotations & rename object keys to be more mearningful\n",
    "    for obj_id in scene_objs.keys():\n",
    "        obj = scene_objs[obj_id]\n",
    "        _keys_to_remove_ = set(['nyu40', 'eigen13', 'attributes', 'affordances', 'symmetry', 'state_affordances'])\n",
    "        for k in set(obj.keys()).intersection(_keys_to_remove_): del obj[k]\n",
    "        obj['raw528_enc'] = int(obj.pop('global_id'))\n",
    "        obj['raw528_name'] = obj.pop('label')\n",
    "        obj['rio27_enc'] = int(obj.pop('rio27'))\n",
    "        obj['rio27_name'] = RIO27_CLASSES[obj['rio27_enc']]\n",
    "        obj['instance_color'] = obj.pop('ply_color')\n",
    "        obj['instance_id'] = int(obj.pop('id'))\n",
    "        \n",
    "    # delete objects assigned with \"0 : -\" RIO27 annotation\n",
    "    obj_ids_to_remove = [obj_id for obj_id in scene_objs.keys() if scene_objs[obj_id]['rio27_enc'] == 0]\n",
    "    for k in obj_ids_to_remove: del scene_objs[k]\n",
    "        \n",
    "    # note: obj_id <=> 'instance_id', they are the same"
   ]
  },
  {
   "cell_type": "code",
   "execution_count": 5,
   "metadata": {},
   "outputs": [],
   "source": [
    "# unit testing (checking)\n",
    "# 1. ensure that all nodes would contain the same node_keys\n",
    "# 2. ensure that there is no more objects with \"0 : -\" RIO27 annotation (27 unique keys)\n",
    "for scene_id in SceneGraphs.keys():\n",
    "    scene_objs = SceneGraphs[scene_id]['nodes']\n",
    "    for obj in scene_objs.values():\n",
    "        assert obj.keys() == {'raw528_name', 'raw528_enc', 'rio27_name', 'instance_id', 'rio27_enc', 'instance_color'}, obj.keys()\n",
    "        assert 0 < obj['rio27_enc'] < 28, '{}:{}'.format(obj['rio27_enc'], obj['rio27_name'])\n",
    "        assert not (obj['rio27_name'] == '-'), '{}:{}'.format(obj['rio27_enc'], obj['rio27_name'])"
   ]
  },
  {
   "cell_type": "markdown",
   "metadata": {},
   "source": [
    "### [B2] Edge (Relationship) Relabelling"
   ]
  },
  {
   "cell_type": "code",
   "execution_count": 6,
   "metadata": {},
   "outputs": [],
   "source": [
    "STRUCTURAL_RELATIONSHIP_CLASSES = ['supported by', 'attached to', 'standing on', 'lying on','hanging on', \n",
    "                                   'connected to', 'leaning against', 'part of', 'belonging to', 'build in',\n",
    "                                   'standing in', 'cover', 'lying in', 'hanging in', 'spatial proximity', 'close by']\n",
    "for scene_id in SceneGraphs.keys():\n",
    "    scene_rels = SceneGraphs[scene_id]['edges']\n",
    "    \n",
    "    # remove comparative relationships \n",
    "    rel_ids_to_remove = []\n",
    "    for rel_id, rel_tuple in enumerate(scene_rels):\n",
    "        rel_name = rel_tuple[-1]\n",
    "        _rel_names_to_retain_ = ['part of', 'left', 'cover', 'hanging in', \n",
    "                                 'belonging to', 'connected to', 'supported by', \n",
    "                                 'hanging on', 'right', 'attached to', 'build in', \n",
    "                                 'close by', 'behind', 'lying on', 'standing on', \n",
    "                                 'lying in', 'standing in', 'front', 'leaning against']\n",
    "        if rel_name not in _rel_names_to_retain_: rel_ids_to_remove.append(rel_id)\n",
    "    rel_ids_to_remove.reverse()\n",
    "    for rel_id in rel_ids_to_remove: del scene_rels[rel_id]\n",
    "        \n",
    "    # rename \"left | right | front | behind\" into \"spatial proximity\" & reassign rels with class_id (above)\n",
    "    for rel_id, rel_tuple in enumerate(scene_rels):\n",
    "        rel_name = rel_tuple[-1]\n",
    "        rel_name = rel_name.replace('left', 'spatial proximity')  \\\n",
    "                             .replace('right', 'spatial proximity') \\\n",
    "                             .replace('front', 'spatial proximity') \\\n",
    "                             .replace('behind', 'spatial proximity') \n",
    "        scene_rels[rel_id][-1] = rel_name\n",
    "        scene_rels[rel_id][-2] = STRUCTURAL_RELATIONSHIP_CLASSES.index(rel_name)\n",
    "\n",
    "    # aggregate multi-label edges -> merge multiple 'spatial proximity' -> reformulate from 'multi-label' to 'multi-class'\n",
    "    rel_aggregation = defaultdict(list)\n",
    "    for rel_tuple in scene_rels:\n",
    "        src_node, dst_node, rel_enc, rel_name = rel_tuple\n",
    "        rel_aggregation['{}-{}'.format(src_node, dst_node)].append('{}-{}'.format(rel_enc, rel_name))\n",
    "    for rel_key, rel_value in rel_aggregation.items():\n",
    "        rel_value = set(rel_value)\n",
    "        rel_aggregation[rel_key] = rel_value\n",
    "        if len(rel_value) == 1: continue # normal case - multi-class setting already\n",
    "        \n",
    "        if len(rel_value) == 2 and '15-close by' in rel_value:\n",
    "            # case 1\n",
    "            rel_value.remove('15-close by')\n",
    "        elif len(rel_value) == 2 and '14-spatial proximity' in rel_value:\n",
    "            rel_value.remove('14-spatial proximity')\n",
    "        elif len(rel_value) == 3 and '15-close by' in rel_value and'14-spatial proximity' in rel_value:\n",
    "            rel_value.remove('15-close by')\n",
    "            rel_value.remove('14-spatial proximity')\n",
    "        else:\n",
    "            print('Error - there should be no more cases')\n",
    "            exit()\n",
    "        rel_aggregation[rel_key] = rel_value\n",
    "    \n",
    "    # recover it back to the list of edge_tuple shape\n",
    "    new_scene_rels = []\n",
    "    for rel_key, rel_value in rel_aggregation.items():\n",
    "        assert len(rel_value) == 1, 'unsuccessful reformulation'  # unit testing\n",
    "        src_node, dst_node = rel_key.split('-')\n",
    "        rel_enc, rel_name = list(rel_value)[0].split('-')\n",
    "        curr_tuple = [src_node, dst_node, rel_enc, rel_name]\n",
    "        new_scene_rels.append(curr_tuple)\n",
    "    SceneGraphs[scene_id]['edges'] = new_scene_rels"
   ]
  },
  {
   "cell_type": "markdown",
   "metadata": {},
   "source": [
    "### [B3] Recalibration between nodes and edges "
   ]
  },
  {
   "cell_type": "code",
   "execution_count": 7,
   "metadata": {},
   "outputs": [],
   "source": [
    "for scene_id in SceneGraphs.keys():\n",
    "    scene_objs = SceneGraphs[scene_id]['nodes']\n",
    "    scene_rels = SceneGraphs[scene_id]['edges']\n",
    "    \n",
    "    # remove edges connecting to invalid-nodes\n",
    "    valid_scene_obj_ids = [int(i) for i in list(scene_objs.keys())]\n",
    "    invalid_scene_rel_ids = []\n",
    "    for rel_id, rel_tuple in enumerate(scene_rels):\n",
    "        src_node, dst_node = int(rel_tuple[0]), int(rel_tuple[1])\n",
    "        if (src_node not in valid_scene_obj_ids) or (dst_node not in valid_scene_obj_ids):\n",
    "            invalid_scene_rel_ids.append(rel_id)\n",
    "    invalid_scene_rel_ids.reverse()\n",
    "    for invalid_rel_id in invalid_scene_rel_ids: del SceneGraphs[scene_id]['edges'][invalid_rel_id]\n",
    "        \n",
    "    # remove isolated nodes with no edges connected\n",
    "    appeared_obj_ids_in_edges = []\n",
    "    isolated_scene_obj_ids = []\n",
    "    for rel_id, rel_tuple in enumerate(scene_rels):\n",
    "        src_node, dst_node = rel_tuple[0], rel_tuple[1]\n",
    "        appeared_obj_ids_in_edges.append(src_node)\n",
    "        appeared_obj_ids_in_edges.append(dst_node)\n",
    "    appeared_obj_ids_in_edges = set(appeared_obj_ids_in_edges)\n",
    "    for obj_id in scene_objs.keys():\n",
    "        if obj_id not in appeared_obj_ids_in_edges:\n",
    "            isolated_scene_obj_ids.append(obj_id)\n",
    "    for isolated_obj_id in isolated_scene_obj_ids: del SceneGraphs[scene_id]['nodes'][isolated_obj_id]"
   ]
  },
  {
   "cell_type": "markdown",
   "metadata": {},
   "source": [
    "### Final: remove small / partial scenes plus one special scene\n",
    "* reference: http://campar.in.tum.de/files/3RScan/partial.txt\n",
    "* output: 'SceneGraphAnnotation.json'"
   ]
  },
  {
   "cell_type": "code",
   "execution_count": 8,
   "metadata": {},
   "outputs": [],
   "source": [
    "scene_ids_to_remove = ['a8952593-9035-254b-8f40-bc82e6bcbbb1',\n",
    "                        '20c993b9-698f-29c5-87f1-4514b70070c3',\n",
    "                        '20c99397-698f-29c5-8534-5304111c28af',\n",
    "                        '20c993c7-698f-29c5-8685-0d1a2a4a3496',\n",
    "                        'ae73fa15-5a60-2398-8646-dd46c46a9a3d',\n",
    "                        '20c993c5-698f-29c5-8604-3248ede4091f',\n",
    "                        '6bde60cd-9162-246f-8fad-fca80b4d6ad8',\n",
    "                        '77941464-cfdf-29cb-87f4-0465d3b9ab00',\n",
    "                        '0cac75af-8d6f-2d13-8f9e-ed3f62665aed',\n",
    "                        '0cac768a-8d6f-2d13-8dd3-3cbb7d916641',\n",
    "                        'ba6fda98-a4c1-2dca-8230-bce60f5a0f85',\n",
    "                        'd7d40d48-7a5d-2b36-97ad-692c9b56b508',\n",
    "                        'd7d40d46-7a5d-2b36-9734-659bccb1c202',\n",
    "                        '352e9c48-69fb-27a7-8a35-3dbf699637c8',\n",
    "                        'ba6fdaa0-a4c1-2dca-80a9-df196c04fcc8',\n",
    "                        'd7d40d40-7a5d-2b36-977c-4e35fdd5f03a',\n",
    "                        '0cac75e6-8d6f-2d13-8e4a-72b0fc5dc6c3',\n",
    "                        '38770cab-86d7-27b8-85cd-d55727c4697b',\n",
    "                        '0cac768c-8d6f-2d13-8cc8-7ace156fc3e7']"
   ]
  },
  {
   "cell_type": "code",
   "execution_count": 9,
   "metadata": {},
   "outputs": [
    {
     "name": "stdout",
     "output_type": "stream",
     "text": [
      "87e6cf79-9d1a-289f-845c-abe4deb8642f - len_objects:  0 & len_relationships:  0\n"
     ]
    }
   ],
   "source": [
    "# one special scene who contains no elements after our preprocessing\n",
    "for scene_id in SceneGraphs.keys():\n",
    "    scene_objs = SceneGraphs[scene_id]['nodes']\n",
    "    scene_rels = SceneGraphs[scene_id]['edges']\n",
    "    len_objs = len(list(scene_objs.keys()))\n",
    "    len_rels = len(scene_rels)\n",
    "    if len_objs * len_rels == 0:\n",
    "        print(scene_id, '- len_objects: ', len_objs, '& len_relationships: ',len_rels)\n",
    "        scene_ids_to_remove.append(scene_id)"
   ]
  },
  {
   "cell_type": "code",
   "execution_count": 10,
   "metadata": {},
   "outputs": [],
   "source": [
    "for scene_id_to_remove in set(scene_ids_to_remove).intersection(SceneGraphs.keys()): del SceneGraphs[scene_id_to_remove]\n",
    "with open('SceneGraphAnnotation.json', 'w') as f:\n",
    "    json.dump(SceneGraphs, f)"
   ]
  }
 ],
 "metadata": {
  "kernelspec": {
   "display_name": "Python 3",
   "language": "python",
   "name": "python3"
  },
  "language_info": {
   "codemirror_mode": {
    "name": "ipython",
    "version": 3
   },
   "file_extension": ".py",
   "mimetype": "text/x-python",
   "name": "python",
   "nbconvert_exporter": "python",
   "pygments_lexer": "ipython3",
   "version": "3.7.4"
  }
 },
 "nbformat": 4,
 "nbformat_minor": 4
}